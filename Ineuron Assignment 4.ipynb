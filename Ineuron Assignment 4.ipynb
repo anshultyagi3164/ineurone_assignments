{
 "cells": [
  {
   "cell_type": "markdown",
   "metadata": {},
   "source": [
    "# Question 1.1"
   ]
  },
  {
   "cell_type": "code",
   "execution_count": 5,
   "metadata": {},
   "outputs": [],
   "source": [
    "class Triangle:\n",
    "    def __init__(self,l1,l2,l3):\n",
    "        self.a = l1\n",
    "        self.b =l2\n",
    "        self.c = l3"
   ]
  },
  {
   "cell_type": "code",
   "execution_count": 6,
   "metadata": {},
   "outputs": [],
   "source": [
    "class Area(Triangle):\n",
    "    def __init__(self,*args):\n",
    "        super(Area,self).__init__(*args)\n",
    "\n",
    "    def area_of_triangle(self):\n",
    "        s = (self.a + self.b + self.c)/2\n",
    "        area = (s*(s - self.a)*(s - self.b)*(s - self.c))**(0.5)\n",
    "        return(area)"
   ]
  },
  {
   "cell_type": "code",
   "execution_count": 7,
   "metadata": {},
   "outputs": [
    {
     "name": "stdout",
     "output_type": "stream",
     "text": [
      "2\n",
      "2\n",
      "2\n",
      "Area =  1.7320508075688772\n"
     ]
    }
   ],
   "source": [
    "a = int(input())\n",
    "b = int(input())\n",
    "c = int(input())\n",
    "obj1 = Triangle(a,b,c)\n",
    "obj2 = Area(a,b,c)\n",
    "print('Area = ',obj2.area_of_triangle())\n"
   ]
  },
  {
   "cell_type": "markdown",
   "metadata": {},
   "source": [
    "# Question 1.2"
   ]
  },
  {
   "cell_type": "code",
   "execution_count": 8,
   "metadata": {},
   "outputs": [],
   "source": [
    "def filter_long_words(lst,n):\n",
    "    ls = []\n",
    "    for i in lst:\n",
    "        if len(i) > n:\n",
    "            ls.append(i)\n",
    "        else:\n",
    "            continue\n",
    "    return(ls)"
   ]
  },
  {
   "cell_type": "code",
   "execution_count": 9,
   "metadata": {},
   "outputs": [
    {
     "name": "stdout",
     "output_type": "stream",
     "text": [
      "a,ddsfd,fedfwe,gth,dwq,ver,gthnxsha\n",
      "3\n",
      "['ddsfd', 'fedfwe', 'gthnxsha']\n"
     ]
    }
   ],
   "source": [
    "\n",
    "lst = list(map(str,input().split(',')))\n",
    "n = int(input())\n",
    "print(filter_long_words(lst,n))\n"
   ]
  },
  {
   "cell_type": "markdown",
   "metadata": {},
   "source": [
    "# Question 2.1"
   ]
  },
  {
   "cell_type": "code",
   "execution_count": 10,
   "metadata": {},
   "outputs": [
    {
     "name": "stdout",
     "output_type": "stream",
     "text": [
      "vh,vwe,brth,veewrfer,vq,f,f,gr,vcwefew,efvwrfgvwer\n",
      "[2, 3, 4, 8, 2, 1, 1, 2, 7, 11]\n"
     ]
    }
   ],
   "source": [
    "def word_len_size(lst):\n",
    "    ls = []\n",
    "    for i in lst:\n",
    "        ls.append(len(i))\n",
    "    return(ls)\n",
    "\n",
    "lst = list(map(str,input().split(',')))\n",
    "print(word_len_size(lst))"
   ]
  },
  {
   "cell_type": "markdown",
   "metadata": {},
   "source": [
    "# Question 2.2"
   ]
  },
  {
   "cell_type": "code",
   "execution_count": 11,
   "metadata": {},
   "outputs": [
    {
     "name": "stdout",
     "output_type": "stream",
     "text": [
      "a\n",
      "True\n"
     ]
    }
   ],
   "source": [
    "def is_vowel(st):\n",
    "    lst = ['a','e','i','o','u','A','E','I','O','U']\n",
    "    if st in lst:\n",
    "        return(True)\n",
    "    else:\n",
    "        return(False)\n",
    "\n",
    "st = input()\n",
    "print(is_vowel(st))"
   ]
  }
 ],
 "metadata": {
  "kernelspec": {
   "display_name": "Python 3",
   "language": "python",
   "name": "python3"
  },
  "language_info": {
   "codemirror_mode": {
    "name": "ipython",
    "version": 3
   },
   "file_extension": ".py",
   "mimetype": "text/x-python",
   "name": "python",
   "nbconvert_exporter": "python",
   "pygments_lexer": "ipython3",
   "version": "3.8.5"
  }
 },
 "nbformat": 4,
 "nbformat_minor": 4
}
