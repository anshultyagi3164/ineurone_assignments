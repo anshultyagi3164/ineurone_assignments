{
 "cells": [
  {
   "cell_type": "markdown",
   "metadata": {},
   "source": [
    "# Write a function so that the columns of the output matrix are powers of the input vector.\n",
    "#The order of the powers is determined by the increasing boolean argument. Specifically, when increasing is False, the i-th output column is the input vector raised element-wise to the power of N - i - 1.\n",
    "\n",
    "HINT: Such a matrix with a geometric progression in each row is named for Alexandre-Theophile Vandermonde."
   ]
  },
  {
   "cell_type": "code",
   "execution_count": 2,
   "metadata": {},
   "outputs": [
    {
     "name": "stdout",
     "output_type": "stream",
     "text": [
      "[[  1   1   1   1]\n",
      " [  8   4   2   1]\n",
      " [ 27   9   3   1]\n",
      " [125  25   5   1]]\n"
     ]
    }
   ],
   "source": [
    "# x  = 1d array\n",
    "# i = number of columns\n",
    "# increasing = change of power will be from left to right if increasing =  True and vice versa.\n",
    "import numpy as np\n",
    "x = np.array([1, 2, 3, 5])\n",
    "print(np.vander(x,increasing = False))"
   ]
  },
  {
   "cell_type": "code",
   "execution_count": 3,
   "metadata": {},
   "outputs": [
    {
     "name": "stdout",
     "output_type": "stream",
     "text": [
      "[[  1   1   1   1   1]\n",
      " [ 16   8   4   2   1]\n",
      " [ 81  27   9   3   1]\n",
      " [625 125  25   5   1]]\n"
     ]
    }
   ],
   "source": [
    "# by changing the number of columns\n",
    "\n",
    "k = 5\n",
    "print(np.vander(x,k,increasing = False))"
   ]
  },
  {
   "cell_type": "code",
   "execution_count": 4,
   "metadata": {},
   "outputs": [
    {
     "name": "stdout",
     "output_type": "stream",
     "text": [
      "[[  1   1   1   1   1]\n",
      " [  1   2   4   8  16]\n",
      " [  1   3   9  27  81]\n",
      " [  1   5  25 125 625]]\n"
     ]
    }
   ],
   "source": [
    "# by making increasing as True\n",
    "print(np.vander(x,k,increasing = True))\n"
   ]
  },
  {
   "cell_type": "markdown",
   "metadata": {},
   "source": [
    "# Write a function to find moving average in an array over a window: Test it over [3, 5, 7, 2, 8, 10, 11, 65, 72, 81, 99, 100, 150] and window of 3."
   ]
  },
  {
   "cell_type": "code",
   "execution_count": 5,
   "metadata": {},
   "outputs": [
    {
     "name": "stdout",
     "output_type": "stream",
     "text": [
      "25\n",
      "35\n",
      "45\n",
      "55\n",
      "65\n",
      "75\n",
      "85\n",
      "moving average sequence has 7 values\n"
     ]
    }
   ],
   "source": [
    "n = [10,20,30,40,50,60,70,80,90,100]\n",
    "k = 4\n",
    "count = 0\n",
    "index = 0\n",
    "while index < len(n) - k + 1:\n",
    "    sum = 0\n",
    "    for i in range(index,k+index):\n",
    "        sum = sum + n[i]\n",
    "    print(sum//k)\n",
    "    count += 1\n",
    "    index += 1\n",
    "print('moving average sequence has',count,'values')"
   ]
  },
  {
   "cell_type": "markdown",
   "metadata": {},
   "source": [
    "# Alternate method"
   ]
  },
  {
   "cell_type": "code",
   "execution_count": 6,
   "metadata": {},
   "outputs": [
    {
     "name": "stdout",
     "output_type": "stream",
     "text": [
      "[25. 35. 45. 55. 65. 75. 85.]\n"
     ]
    }
   ],
   "source": [
    "n = [10,20,30,40,50,60,70,80,90,100]\n",
    "k = 4\n",
    "r = np.convolve(n,np.ones(k),'valid')/k\n",
    "print(r)"
   ]
  }
 ],
 "metadata": {
  "kernelspec": {
   "display_name": "Python 3",
   "language": "python",
   "name": "python3"
  },
  "language_info": {
   "codemirror_mode": {
    "name": "ipython",
    "version": 3
   },
   "file_extension": ".py",
   "mimetype": "text/x-python",
   "name": "python",
   "nbconvert_exporter": "python",
   "pygments_lexer": "ipython3",
   "version": "3.8.5"
  }
 },
 "nbformat": 4,
 "nbformat_minor": 4
}
